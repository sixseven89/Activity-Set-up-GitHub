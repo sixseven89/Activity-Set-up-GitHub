{
 "cells": [
  {
   "cell_type": "code",
   "execution_count": null,
   "id": "5d41515c",
   "metadata": {},
   "outputs": [],
   "source": [
    "import requests\n",
    "import matplotlib.pyplot as plt\n",
    "\n",
    "def get_iss_location():\n",
    "    url = \"http://api.open-notify.org/iss-now.json\"  # ISS location API endpoint\n",
    "    locations = []\n",
    "    \n",
    "    for _ in range(100):\n",
    "        response = requests.get(url)\n",
    "        data = response.json()\n",
    "        \n",
    "        latitude = float(data['iss_position']['latitude'])\n",
    "        longitude = float(data['iss_position']['longitude'])\n",
    "        timestamp = int(data['timestamp'])\n",
    "        \n",
    "        locations.append((latitude, longitude, timestamp))\n",
    "        \n",
    "        time.sleep(10)  # Delay for 10 seconds between each request\n",
    "        \n",
    "    return locations\n",
    "\n",
    "def plot_iss_path(locations):\n",
    "    latitudes = [loc[0] for loc in locations]\n",
    "    longitudes = [loc[1] for loc in locations]\n",
    "    \n",
    "    plt.plot(longitudes, latitudes, marker='o')\n",
    "    plt.xlabel('Longitude')\n",
    "    plt.ylabel('Latitude')\n",
    "    plt.title('ISS Path')\n",
    "    plt.show()\n",
    "\n",
    "# Main program\n",
    "iss_locations = get_iss_location()\n",
    "plot_iss_path(iss_locations)\n"
   ]
  },
  {
   "cell_type": "code",
   "execution_count": null,
   "id": "5ab74f04",
   "metadata": {},
   "outputs": [],
   "source": []
  }
 ],
 "metadata": {
  "kernelspec": {
   "display_name": "Python 3 (ipykernel)",
   "language": "python",
   "name": "python3"
  },
  "language_info": {
   "codemirror_mode": {
    "name": "ipython",
    "version": 3
   },
   "file_extension": ".py",
   "mimetype": "text/x-python",
   "name": "python",
   "nbconvert_exporter": "python",
   "pygments_lexer": "ipython3",
   "version": "3.10.9"
  }
 },
 "nbformat": 4,
 "nbformat_minor": 5
}
