{
 "cells": [
  {
   "cell_type": "code",
   "execution_count": null,
   "id": "12cdbf08",
   "metadata": {},
   "outputs": [],
   "source": [
    "import requests\n",
    "import matplotlib.pyplot as plt\n",
    "import datetime\n",
    "import time\n",
    "\n",
    "def track_ISS():\n",
    "    url = \"http://api.open-notify.org/iss-now.json\"\n",
    "    data_points = []\n",
    "    \n",
    "    for _ in range(100):\n",
    "        responses = requests.get(url)\n",
    "        if responses.status_code == 200:\n",
    "            data = responses.json()\n",
    "            timestamp = datetime.datetime.fromtimestamp(data['timestamp'])\n",
    "            latitude = float(data['iss_position']['latitude'])\n",
    "            longitude = float(data['iss_position']['longitude'])\n",
    "            \n",
    "            data_points.append((latitude, longitude, timestamp))\n",
    "            time.sleep(10)  \n",
    "        else:\n",
    "            print(\"Error: Failed to fetch data from the API.\")\n",
    "            break\n",
    "\n",
    "    return data_points\n",
    "\n",
    "def plot_iss_path(data_points):\n",
    "    latitudes = [point[0] for point in data_points]\n",
    "    longitudes = [point[1] for point in data_points]\n",
    "\n",
    "    plt.plot(longitudes, latitudes, 'bo-')\n",
    "    plt.xlabel('Longitude')\n",
    "    plt.ylabel('Latitude')\n",
    "    plt.title('ISS Path')\n",
    "    plt.grid(True)\n",
    "    plt.show()\n",
    "\n",
    "# Main \n",
    "data_points = track_ISS()\n",
    "plot_iss_path(data_points)\n"
   ]
  },
  {
   "cell_type": "code",
   "execution_count": null,
   "id": "87ffd478",
   "metadata": {},
   "outputs": [],
   "source": []
  }
 ],
 "metadata": {
  "kernelspec": {
   "display_name": "Python 3 (ipykernel)",
   "language": "python",
   "name": "python3"
  },
  "language_info": {
   "codemirror_mode": {
    "name": "ipython",
    "version": 3
   },
   "file_extension": ".py",
   "mimetype": "text/x-python",
   "name": "python",
   "nbconvert_exporter": "python",
   "pygments_lexer": "ipython3",
   "version": "3.10.9"
  }
 },
 "nbformat": 4,
 "nbformat_minor": 5
}
